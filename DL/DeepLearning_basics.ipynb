{
  "nbformat": 4,
  "nbformat_minor": 0,
  "metadata": {
    "colab": {
      "provenance": []
    },
    "kernelspec": {
      "name": "python3",
      "display_name": "Python 3"
    },
    "language_info": {
      "name": "python"
    }
  },
  "cells": [
    {
      "cell_type": "markdown",
      "source": [
        "## 딥러닝 기초\n",
        "- 인간의 신경망을 모방해서 학습 및 예측하고 판단하는 기술\n",
        "- 영상처리, 음성처리, 자연어처리, 이미지처리 분야 등에서 사용되고 있다."
      ],
      "metadata": {
        "id": "7OxGakl4ivOn"
      }
    },
    {
      "cell_type": "code",
      "execution_count": null,
      "metadata": {
        "id": "18W6RhHhhIxH",
        "colab": {
          "base_uri": "https://localhost:8080/"
        },
        "outputId": "d6d1dc77-346c-48b8-ec43-4e197db360bd"
      },
      "outputs": [
        {
          "output_type": "stream",
          "name": "stdout",
          "text": [
            "Mounted at /content/drive\n"
          ]
        }
      ],
      "source": [
        "# 구글 마운트\n",
        "from google.colab import drive\n",
        "drive.mount('/content/drive')"
      ]
    },
    {
      "cell_type": "code",
      "source": [
        "# 작업하고 있는 위치 변경\n",
        "%cd /content/drive/MyDrive/Colab Notebooks/deeplearning_2025"
      ],
      "metadata": {
        "colab": {
          "base_uri": "https://localhost:8080/"
        },
        "id": "6EeOmT2ZiELh",
        "outputId": "c6c9e292-1c58-40ef-94d5-b38cfbde00df"
      },
      "execution_count": null,
      "outputs": [
        {
          "output_type": "stream",
          "name": "stdout",
          "text": [
            "/content/drive/MyDrive/Colab Notebooks/deeplearning_2025\n"
          ]
        }
      ]
    },
    {
      "cell_type": "code",
      "source": [
        "# 현재 위치 확인\n",
        "!pwd"
      ],
      "metadata": {
        "colab": {
          "base_uri": "https://localhost:8080/"
        },
        "id": "Q49KYYJsiEJA",
        "outputId": "1f508a65-68b7-40a6-8a41-a091acd4b2ea"
      },
      "execution_count": null,
      "outputs": [
        {
          "output_type": "stream",
          "name": "stdout",
          "text": [
            "/content/drive/MyDrive/Colab Notebooks/deeplearning_2025\n"
          ]
        }
      ]
    },
    {
      "cell_type": "markdown",
      "source": [
        "### 목표\n",
        "- 공부 시간에 따른 학생의 수학 성적을 예측하는 회귀 모델링"
      ],
      "metadata": {
        "id": "Y3-XXyC_oH1v"
      }
    },
    {
      "cell_type": "code",
      "source": [
        "# 데이터 분석에 필요한 라이브러리 3대장\n",
        "import pandas as pd\n",
        "import numpy as np\n",
        "import matplotlib.pyplot as plt"
      ],
      "metadata": {
        "id": "pTOpim-siEGd"
      },
      "execution_count": null,
      "outputs": []
    },
    {
      "cell_type": "code",
      "source": [
        "# 데이터 로드\n",
        "data = pd.read_csv('./data/student-mat.csv', delimiter=';')\n",
        "data.head(3)"
      ],
      "metadata": {
        "colab": {
          "base_uri": "https://localhost:8080/",
          "height": 193
        },
        "id": "cXCZmH9liED0",
        "outputId": "07a7fa46-4157-4ad9-a936-ab7fc1324e38"
      },
      "execution_count": null,
      "outputs": [
        {
          "output_type": "execute_result",
          "data": {
            "text/plain": [
              "  school sex  age address famsize Pstatus  Medu  Fedu     Mjob     Fjob  ...  \\\n",
              "0     GP   F   18       U     GT3       A     4     4  at_home  teacher  ...   \n",
              "1     GP   F   17       U     GT3       T     1     1  at_home    other  ...   \n",
              "2     GP   F   15       U     LE3       T     1     1  at_home    other  ...   \n",
              "\n",
              "  famrel freetime  goout  Dalc  Walc health absences G1 G2  G3  \n",
              "0      4        3      4     1     1      3        6  5  6   6  \n",
              "1      5        3      3     1     1      3        4  5  5   6  \n",
              "2      4        3      2     2     3      3       10  7  8  10  \n",
              "\n",
              "[3 rows x 33 columns]"
            ],
            "text/html": [
              "\n",
              "  <div id=\"df-a3b45685-da2f-4c5b-b35e-0c6c0c4423e8\" class=\"colab-df-container\">\n",
              "    <div>\n",
              "<style scoped>\n",
              "    .dataframe tbody tr th:only-of-type {\n",
              "        vertical-align: middle;\n",
              "    }\n",
              "\n",
              "    .dataframe tbody tr th {\n",
              "        vertical-align: top;\n",
              "    }\n",
              "\n",
              "    .dataframe thead th {\n",
              "        text-align: right;\n",
              "    }\n",
              "</style>\n",
              "<table border=\"1\" class=\"dataframe\">\n",
              "  <thead>\n",
              "    <tr style=\"text-align: right;\">\n",
              "      <th></th>\n",
              "      <th>school</th>\n",
              "      <th>sex</th>\n",
              "      <th>age</th>\n",
              "      <th>address</th>\n",
              "      <th>famsize</th>\n",
              "      <th>Pstatus</th>\n",
              "      <th>Medu</th>\n",
              "      <th>Fedu</th>\n",
              "      <th>Mjob</th>\n",
              "      <th>Fjob</th>\n",
              "      <th>...</th>\n",
              "      <th>famrel</th>\n",
              "      <th>freetime</th>\n",
              "      <th>goout</th>\n",
              "      <th>Dalc</th>\n",
              "      <th>Walc</th>\n",
              "      <th>health</th>\n",
              "      <th>absences</th>\n",
              "      <th>G1</th>\n",
              "      <th>G2</th>\n",
              "      <th>G3</th>\n",
              "    </tr>\n",
              "  </thead>\n",
              "  <tbody>\n",
              "    <tr>\n",
              "      <th>0</th>\n",
              "      <td>GP</td>\n",
              "      <td>F</td>\n",
              "      <td>18</td>\n",
              "      <td>U</td>\n",
              "      <td>GT3</td>\n",
              "      <td>A</td>\n",
              "      <td>4</td>\n",
              "      <td>4</td>\n",
              "      <td>at_home</td>\n",
              "      <td>teacher</td>\n",
              "      <td>...</td>\n",
              "      <td>4</td>\n",
              "      <td>3</td>\n",
              "      <td>4</td>\n",
              "      <td>1</td>\n",
              "      <td>1</td>\n",
              "      <td>3</td>\n",
              "      <td>6</td>\n",
              "      <td>5</td>\n",
              "      <td>6</td>\n",
              "      <td>6</td>\n",
              "    </tr>\n",
              "    <tr>\n",
              "      <th>1</th>\n",
              "      <td>GP</td>\n",
              "      <td>F</td>\n",
              "      <td>17</td>\n",
              "      <td>U</td>\n",
              "      <td>GT3</td>\n",
              "      <td>T</td>\n",
              "      <td>1</td>\n",
              "      <td>1</td>\n",
              "      <td>at_home</td>\n",
              "      <td>other</td>\n",
              "      <td>...</td>\n",
              "      <td>5</td>\n",
              "      <td>3</td>\n",
              "      <td>3</td>\n",
              "      <td>1</td>\n",
              "      <td>1</td>\n",
              "      <td>3</td>\n",
              "      <td>4</td>\n",
              "      <td>5</td>\n",
              "      <td>5</td>\n",
              "      <td>6</td>\n",
              "    </tr>\n",
              "    <tr>\n",
              "      <th>2</th>\n",
              "      <td>GP</td>\n",
              "      <td>F</td>\n",
              "      <td>15</td>\n",
              "      <td>U</td>\n",
              "      <td>LE3</td>\n",
              "      <td>T</td>\n",
              "      <td>1</td>\n",
              "      <td>1</td>\n",
              "      <td>at_home</td>\n",
              "      <td>other</td>\n",
              "      <td>...</td>\n",
              "      <td>4</td>\n",
              "      <td>3</td>\n",
              "      <td>2</td>\n",
              "      <td>2</td>\n",
              "      <td>3</td>\n",
              "      <td>3</td>\n",
              "      <td>10</td>\n",
              "      <td>7</td>\n",
              "      <td>8</td>\n",
              "      <td>10</td>\n",
              "    </tr>\n",
              "  </tbody>\n",
              "</table>\n",
              "<p>3 rows × 33 columns</p>\n",
              "</div>\n",
              "    <div class=\"colab-df-buttons\">\n",
              "\n",
              "  <div class=\"colab-df-container\">\n",
              "    <button class=\"colab-df-convert\" onclick=\"convertToInteractive('df-a3b45685-da2f-4c5b-b35e-0c6c0c4423e8')\"\n",
              "            title=\"Convert this dataframe to an interactive table.\"\n",
              "            style=\"display:none;\">\n",
              "\n",
              "  <svg xmlns=\"http://www.w3.org/2000/svg\" height=\"24px\" viewBox=\"0 -960 960 960\">\n",
              "    <path d=\"M120-120v-720h720v720H120Zm60-500h600v-160H180v160Zm220 220h160v-160H400v160Zm0 220h160v-160H400v160ZM180-400h160v-160H180v160Zm440 0h160v-160H620v160ZM180-180h160v-160H180v160Zm440 0h160v-160H620v160Z\"/>\n",
              "  </svg>\n",
              "    </button>\n",
              "\n",
              "  <style>\n",
              "    .colab-df-container {\n",
              "      display:flex;\n",
              "      gap: 12px;\n",
              "    }\n",
              "\n",
              "    .colab-df-convert {\n",
              "      background-color: #E8F0FE;\n",
              "      border: none;\n",
              "      border-radius: 50%;\n",
              "      cursor: pointer;\n",
              "      display: none;\n",
              "      fill: #1967D2;\n",
              "      height: 32px;\n",
              "      padding: 0 0 0 0;\n",
              "      width: 32px;\n",
              "    }\n",
              "\n",
              "    .colab-df-convert:hover {\n",
              "      background-color: #E2EBFA;\n",
              "      box-shadow: 0px 1px 2px rgba(60, 64, 67, 0.3), 0px 1px 3px 1px rgba(60, 64, 67, 0.15);\n",
              "      fill: #174EA6;\n",
              "    }\n",
              "\n",
              "    .colab-df-buttons div {\n",
              "      margin-bottom: 4px;\n",
              "    }\n",
              "\n",
              "    [theme=dark] .colab-df-convert {\n",
              "      background-color: #3B4455;\n",
              "      fill: #D2E3FC;\n",
              "    }\n",
              "\n",
              "    [theme=dark] .colab-df-convert:hover {\n",
              "      background-color: #434B5C;\n",
              "      box-shadow: 0px 1px 3px 1px rgba(0, 0, 0, 0.15);\n",
              "      filter: drop-shadow(0px 1px 2px rgba(0, 0, 0, 0.3));\n",
              "      fill: #FFFFFF;\n",
              "    }\n",
              "  </style>\n",
              "\n",
              "    <script>\n",
              "      const buttonEl =\n",
              "        document.querySelector('#df-a3b45685-da2f-4c5b-b35e-0c6c0c4423e8 button.colab-df-convert');\n",
              "      buttonEl.style.display =\n",
              "        google.colab.kernel.accessAllowed ? 'block' : 'none';\n",
              "\n",
              "      async function convertToInteractive(key) {\n",
              "        const element = document.querySelector('#df-a3b45685-da2f-4c5b-b35e-0c6c0c4423e8');\n",
              "        const dataTable =\n",
              "          await google.colab.kernel.invokeFunction('convertToInteractive',\n",
              "                                                    [key], {});\n",
              "        if (!dataTable) return;\n",
              "\n",
              "        const docLinkHtml = 'Like what you see? Visit the ' +\n",
              "          '<a target=\"_blank\" href=https://colab.research.google.com/notebooks/data_table.ipynb>data table notebook</a>'\n",
              "          + ' to learn more about interactive tables.';\n",
              "        element.innerHTML = '';\n",
              "        dataTable['output_type'] = 'display_data';\n",
              "        await google.colab.output.renderOutput(dataTable, element);\n",
              "        const docLink = document.createElement('div');\n",
              "        docLink.innerHTML = docLinkHtml;\n",
              "        element.appendChild(docLink);\n",
              "      }\n",
              "    </script>\n",
              "  </div>\n",
              "\n",
              "\n",
              "    <div id=\"df-9bdc39ca-7383-48ac-ba10-0161aea2e69f\">\n",
              "      <button class=\"colab-df-quickchart\" onclick=\"quickchart('df-9bdc39ca-7383-48ac-ba10-0161aea2e69f')\"\n",
              "                title=\"Suggest charts\"\n",
              "                style=\"display:none;\">\n",
              "\n",
              "<svg xmlns=\"http://www.w3.org/2000/svg\" height=\"24px\"viewBox=\"0 0 24 24\"\n",
              "     width=\"24px\">\n",
              "    <g>\n",
              "        <path d=\"M19 3H5c-1.1 0-2 .9-2 2v14c0 1.1.9 2 2 2h14c1.1 0 2-.9 2-2V5c0-1.1-.9-2-2-2zM9 17H7v-7h2v7zm4 0h-2V7h2v10zm4 0h-2v-4h2v4z\"/>\n",
              "    </g>\n",
              "</svg>\n",
              "      </button>\n",
              "\n",
              "<style>\n",
              "  .colab-df-quickchart {\n",
              "      --bg-color: #E8F0FE;\n",
              "      --fill-color: #1967D2;\n",
              "      --hover-bg-color: #E2EBFA;\n",
              "      --hover-fill-color: #174EA6;\n",
              "      --disabled-fill-color: #AAA;\n",
              "      --disabled-bg-color: #DDD;\n",
              "  }\n",
              "\n",
              "  [theme=dark] .colab-df-quickchart {\n",
              "      --bg-color: #3B4455;\n",
              "      --fill-color: #D2E3FC;\n",
              "      --hover-bg-color: #434B5C;\n",
              "      --hover-fill-color: #FFFFFF;\n",
              "      --disabled-bg-color: #3B4455;\n",
              "      --disabled-fill-color: #666;\n",
              "  }\n",
              "\n",
              "  .colab-df-quickchart {\n",
              "    background-color: var(--bg-color);\n",
              "    border: none;\n",
              "    border-radius: 50%;\n",
              "    cursor: pointer;\n",
              "    display: none;\n",
              "    fill: var(--fill-color);\n",
              "    height: 32px;\n",
              "    padding: 0;\n",
              "    width: 32px;\n",
              "  }\n",
              "\n",
              "  .colab-df-quickchart:hover {\n",
              "    background-color: var(--hover-bg-color);\n",
              "    box-shadow: 0 1px 2px rgba(60, 64, 67, 0.3), 0 1px 3px 1px rgba(60, 64, 67, 0.15);\n",
              "    fill: var(--button-hover-fill-color);\n",
              "  }\n",
              "\n",
              "  .colab-df-quickchart-complete:disabled,\n",
              "  .colab-df-quickchart-complete:disabled:hover {\n",
              "    background-color: var(--disabled-bg-color);\n",
              "    fill: var(--disabled-fill-color);\n",
              "    box-shadow: none;\n",
              "  }\n",
              "\n",
              "  .colab-df-spinner {\n",
              "    border: 2px solid var(--fill-color);\n",
              "    border-color: transparent;\n",
              "    border-bottom-color: var(--fill-color);\n",
              "    animation:\n",
              "      spin 1s steps(1) infinite;\n",
              "  }\n",
              "\n",
              "  @keyframes spin {\n",
              "    0% {\n",
              "      border-color: transparent;\n",
              "      border-bottom-color: var(--fill-color);\n",
              "      border-left-color: var(--fill-color);\n",
              "    }\n",
              "    20% {\n",
              "      border-color: transparent;\n",
              "      border-left-color: var(--fill-color);\n",
              "      border-top-color: var(--fill-color);\n",
              "    }\n",
              "    30% {\n",
              "      border-color: transparent;\n",
              "      border-left-color: var(--fill-color);\n",
              "      border-top-color: var(--fill-color);\n",
              "      border-right-color: var(--fill-color);\n",
              "    }\n",
              "    40% {\n",
              "      border-color: transparent;\n",
              "      border-right-color: var(--fill-color);\n",
              "      border-top-color: var(--fill-color);\n",
              "    }\n",
              "    60% {\n",
              "      border-color: transparent;\n",
              "      border-right-color: var(--fill-color);\n",
              "    }\n",
              "    80% {\n",
              "      border-color: transparent;\n",
              "      border-right-color: var(--fill-color);\n",
              "      border-bottom-color: var(--fill-color);\n",
              "    }\n",
              "    90% {\n",
              "      border-color: transparent;\n",
              "      border-bottom-color: var(--fill-color);\n",
              "    }\n",
              "  }\n",
              "</style>\n",
              "\n",
              "      <script>\n",
              "        async function quickchart(key) {\n",
              "          const quickchartButtonEl =\n",
              "            document.querySelector('#' + key + ' button');\n",
              "          quickchartButtonEl.disabled = true;  // To prevent multiple clicks.\n",
              "          quickchartButtonEl.classList.add('colab-df-spinner');\n",
              "          try {\n",
              "            const charts = await google.colab.kernel.invokeFunction(\n",
              "                'suggestCharts', [key], {});\n",
              "          } catch (error) {\n",
              "            console.error('Error during call to suggestCharts:', error);\n",
              "          }\n",
              "          quickchartButtonEl.classList.remove('colab-df-spinner');\n",
              "          quickchartButtonEl.classList.add('colab-df-quickchart-complete');\n",
              "        }\n",
              "        (() => {\n",
              "          let quickchartButtonEl =\n",
              "            document.querySelector('#df-9bdc39ca-7383-48ac-ba10-0161aea2e69f button');\n",
              "          quickchartButtonEl.style.display =\n",
              "            google.colab.kernel.accessAllowed ? 'block' : 'none';\n",
              "        })();\n",
              "      </script>\n",
              "    </div>\n",
              "\n",
              "    </div>\n",
              "  </div>\n"
            ],
            "application/vnd.google.colaboratory.intrinsic+json": {
              "type": "dataframe",
              "variable_name": "data"
            }
          },
          "metadata": {},
          "execution_count": 5
        }
      ]
    },
    {
      "cell_type": "markdown",
      "source": [
        "### 컬럼 설명\n",
        "\n",
        "| 컬럼 이름       | 설명                             |\n",
        "|-----------------|----------------------------------|\n",
        "| school          | 학교 (GP - Gabriel Pereira, MS - Mousinho da Silveira) |\n",
        "| sex             | 성별 (F - Female, M - Male)      |\n",
        "| age             | 나이                             |\n",
        "| address         | 주소 유형 (U - Urban, R - Rural) |\n",
        "| famsize         | 가족 크기 (LE3 - 3명 이하, GT3 - 3명 초과) |\n",
        "| Pstatus         | 부모 동거 상태 (T - 함께, A - 별거) |\n",
        "| Medu            | 어머니 교육 수준 (0 - 없음, 1 - 초등, 2 - 중등, 3 - 고등, 4 - 대졸) |\n",
        "| Fedu            | 아버지 교육 수준 (0 - 없음, 1 - 초등, 2 - 중등, 3 - 고등, 4 - 대졸) |\n",
        "| Mjob            | 어머니 직업 (teacher, health, services, at_home, other) |\n",
        "| Fjob            | 아버지 직업 (teacher, health, services, at_home, other) |\n",
        "| reason          | 학교 선택 이유 (home, reputation, course, other) |\n",
        "| guardian        | 보호자 (mother, father, other)  |\n",
        "| traveltime      | 통학 시간 (1 - 15분 이하, 2 - 15~30분, 3 - 30분~1시간, 4 - 1시간 초과) |\n",
        "| studytime       | 주간 공부 시간 (1 - 2시간 이하, 2 - 2~5시간, 3 - 5~10시간, 4 - 10시간 초과) |\n",
        "| failures        | 과목 낙제 수 (n if 1<=n<3, else 4) |\n",
        "| schoolsup       | 학교 추가 지원 (yes, no)        |\n",
        "| famsup          | 가족 추가 지원 (yes, no)        |\n",
        "| paid            | 과외 수업 참여 (yes, no)        |\n",
        "| activities      | 학교 외 활동 참여 (yes, no)     |\n",
        "| nursery         | 유치원 참여 여부 (yes, no)      |\n",
        "| higher          | 고등교육 희망 여부 (yes, no)    |\n",
        "| internet        | 가정 내 인터넷 접속 여부 (yes, no) |\n",
        "| romantic        | 로맨틱 관계 여부 (yes, no)      |\n",
        "| famrel          | 가족 관계의 질 (1 - 매우 나쁨, 5 - 매우 좋음) |\n",
        "| freetime        | 여가 시간의 양 (1 - 매우 적음, 5 - 매우 많음) |\n",
        "| goout           | 외출 빈도 (1 - 매우 적음, 5 - 매우 많음) |\n",
        "| Dalc            | 평일 음주량 (1 - 매우 적음, 5 - 매우 많음) |\n",
        "| Walc            | 주말 음주량 (1 - 매우 적음, 5 - 매우 많음) |\n",
        "| health          | 현재 건강 상태 (1 - 매우 나쁨, 5 - 매우 좋음) |\n",
        "| absences        | 결석 일수                        |\n",
        "| G1              | 1학기 성적                       |\n",
        "| G2              | 2학기 성적                       |\n",
        "| G3              | 최종 성적                        |\n"
      ],
      "metadata": {
        "id": "fvvr_qlLpb4U"
      }
    },
    {
      "cell_type": "code",
      "source": [
        "data.info()\n",
        "\n",
        "# 결측치 없는 것 확인\n",
        "# 숫자형 컬럼과 문자형 컬럼으로 구성\n",
        "# 문자형으로 된 컬럼 -> 수치형으로 변경\n",
        "# 원핫인코딩\n",
        "# pd.get_dummies (문자형 컬럼만 모아서)\n"
      ],
      "metadata": {
        "colab": {
          "base_uri": "https://localhost:8080/"
        },
        "collapsed": true,
        "id": "G_AveMpHiEA8",
        "outputId": "bc110a79-3926-4ed7-8bba-a13b91570942"
      },
      "execution_count": null,
      "outputs": [
        {
          "output_type": "stream",
          "name": "stdout",
          "text": [
            "<class 'pandas.core.frame.DataFrame'>\n",
            "RangeIndex: 395 entries, 0 to 394\n",
            "Data columns (total 33 columns):\n",
            " #   Column      Non-Null Count  Dtype \n",
            "---  ------      --------------  ----- \n",
            " 0   school      395 non-null    object\n",
            " 1   sex         395 non-null    object\n",
            " 2   age         395 non-null    int64 \n",
            " 3   address     395 non-null    object\n",
            " 4   famsize     395 non-null    object\n",
            " 5   Pstatus     395 non-null    object\n",
            " 6   Medu        395 non-null    int64 \n",
            " 7   Fedu        395 non-null    int64 \n",
            " 8   Mjob        395 non-null    object\n",
            " 9   Fjob        395 non-null    object\n",
            " 10  reason      395 non-null    object\n",
            " 11  guardian    395 non-null    object\n",
            " 12  traveltime  395 non-null    int64 \n",
            " 13  studytime   395 non-null    int64 \n",
            " 14  failures    395 non-null    int64 \n",
            " 15  schoolsup   395 non-null    object\n",
            " 16  famsup      395 non-null    object\n",
            " 17  paid        395 non-null    object\n",
            " 18  activities  395 non-null    object\n",
            " 19  nursery     395 non-null    object\n",
            " 20  higher      395 non-null    object\n",
            " 21  internet    395 non-null    object\n",
            " 22  romantic    395 non-null    object\n",
            " 23  famrel      395 non-null    int64 \n",
            " 24  freetime    395 non-null    int64 \n",
            " 25  goout       395 non-null    int64 \n",
            " 26  Dalc        395 non-null    int64 \n",
            " 27  Walc        395 non-null    int64 \n",
            " 28  health      395 non-null    int64 \n",
            " 29  absences    395 non-null    int64 \n",
            " 30  G1          395 non-null    int64 \n",
            " 31  G2          395 non-null    int64 \n",
            " 32  G3          395 non-null    int64 \n",
            "dtypes: int64(16), object(17)\n",
            "memory usage: 102.0+ KB\n"
          ]
        }
      ]
    },
    {
      "cell_type": "code",
      "source": [
        "# 가장 먼저 머신러닝 학습 -> 딥러닝과의 차이점\n",
        "X = data[['studytime']] # 공부한 시간에 따른 성적을 예측하려고 하는 것이기 때문에\n",
        "# 문제 데이터인 공부 시간을 2차원 데이터 형태로 변환\n",
        "print(X.shape)\n",
        "y = data['G3'] # 정답 데이터\n",
        "print(y.shape)"
      ],
      "metadata": {
        "colab": {
          "base_uri": "https://localhost:8080/"
        },
        "id": "IMBk2fjFiDNV",
        "outputId": "ec756f08-f77a-400b-98cb-4090ccbe8e28"
      },
      "execution_count": null,
      "outputs": [
        {
          "output_type": "stream",
          "name": "stdout",
          "text": [
            "(395, 1)\n",
            "(395,)\n"
          ]
        }
      ]
    },
    {
      "cell_type": "code",
      "source": [
        "# train(학습지), test(시험지)로 분리\n",
        "from sklearn.model_selection import train_test_split\n",
        "X_train, X_test, y_train, y_test = train_test_split(X, y, test_size=0.3, random_state=5)\n",
        "\n",
        "# 크기 확인\n",
        "print(\"훈련 데이터 :\", X_train.shape, y_train.shape)\n",
        "print(\"테스트 데이터 :\", X_test.shape, y_test.shape)"
      ],
      "metadata": {
        "colab": {
          "base_uri": "https://localhost:8080/"
        },
        "id": "cTAPf6dMiDKc",
        "outputId": "7da807ac-e98a-4365-888b-6f09929ed061"
      },
      "execution_count": null,
      "outputs": [
        {
          "output_type": "stream",
          "name": "stdout",
          "text": [
            "훈련 데이터 : (276, 1) (276,)\n",
            "테스트 데이터 : (119, 1) (119,)\n"
          ]
        }
      ]
    },
    {
      "cell_type": "code",
      "source": [
        "from sklearn.linear_model import LinearRegression\n",
        "\n",
        "\n",
        "# 1. 모델 객체 생성(lr_model)\n",
        "lr_model = LinearRegression()\n",
        "\n",
        "# 2. 학습\n",
        "lr_model.fit(X_train, y_train)\n",
        "\n",
        "# 3. 평가\n",
        "lr_score = lr_model.score(X_test, y_test)  # 평가지표 -> 결정 계수(R²), 1에 가까울수록 좋은 성능\n",
        "print(f\"Linear Regression 모델의 R² 점수: {lr_score:.4f}\")"
      ],
      "metadata": {
        "colab": {
          "base_uri": "https://localhost:8080/"
        },
        "id": "l5XTv4tdiDHU",
        "outputId": "a62edab9-88c6-4d35-b971-c2d418b25b85"
      },
      "execution_count": null,
      "outputs": [
        {
          "output_type": "stream",
          "name": "stdout",
          "text": [
            "Linear Regression 모델의 R² 점수: -0.0069\n"
          ]
        }
      ]
    },
    {
      "cell_type": "markdown",
      "source": [
        "### 머신러닝(sklearn) vs 딥러닝 (Tensorflow) 모델링 비교\n",
        "- 머신러닝\n",
        "  - 모델 초기화(생성) -> 학습 -> 예측 및 평가\n",
        "  - 다양한 알고리즘(모델)들이 이미 구현된 클래스로 제공\n",
        "  - 완제품 로봇에 도색(하이퍼 파라미터)하는 느낌\n",
        "- 딥러닝\n",
        "  - 모델 설계(모델을 직접 구성) -> 학습 -> 예측 및 평가\n",
        "  - 레고로 만드는 조립식 로봇(만들고 싶은 모양대로 만들어냄)\n",
        "  - 원한다면 복잡한 구조 or 단순한 구조로 만들 수있다."
      ],
      "metadata": {
        "id": "TjZM9UfLxM79"
      }
    },
    {
      "cell_type": "code",
      "source": [
        "# 딥러닝 모델링\n",
        "from tensorflow.keras.models import Sequential\n",
        "from tensorflow.keras.layers import Dense, InputLayer\n",
        "\n",
        "# Sequential : 뼈대, 층(Layer)을 순차적으로 쌓아 올리는 단순한 형태의 모델 구조\n",
        "# inputLayer : 입력층\n",
        "# Dense(완전연결층) : 중간층, 출력층 -> 신경망의 가장 기본적이고 널리 사용되는 레이어 유형 중 하나\n",
        "#                     모든 뉴런(노드)들이 이전 층과 모두 연결되어 있는 층"
      ],
      "metadata": {
        "id": "zyyeKdhziDEF"
      },
      "execution_count": null,
      "outputs": []
    },
    {
      "cell_type": "code",
      "source": [
        "X_train.iloc[0].shape # 첫번째 행이 가진 모양"
      ],
      "metadata": {
        "colab": {
          "base_uri": "https://localhost:8080/"
        },
        "id": "Uc47sjSjiC89",
        "outputId": "d5597de4-b491-439d-c22b-f04e8f2d2f02"
      },
      "execution_count": null,
      "outputs": [
        {
          "output_type": "execute_result",
          "data": {
            "text/plain": [
              "(1,)"
            ]
          },
          "metadata": {},
          "execution_count": 11
        }
      ]
    },
    {
      "cell_type": "code",
      "source": [
        "from tensorflow.keras.models import Sequential\n",
        "from tensorflow.keras.layers import Dense\n",
        "\n",
        "# 1. 모델 설계 (신경망 구조 설계)\n",
        "# 1-1. 뼈대 설계\n",
        "model = Sequential()\n",
        "# 1-2. 입력층 설계 -> 입력층의 모양을 결정\n",
        "model.add(InputLayer(shape=(1,))) # 첫번째 행이 가진 모양으로 입력층 구성\n",
        "# 1-3. 중간층(은닉층) 설계 -> 연산을 담당하는 부분 => 여기가 제일 중요한 부분, 나머지는 다 똑같은 코드 쓴다고 생각\n",
        "model.add(Dense(units=64, activation='sigmoid'))\n",
        "model.add(Dense(units=128, activation='sigmoid'))\n",
        "model.add(Dense(units=64, activation='sigmoid'))\n",
        "model.add(Dense(units=32, activation='sigmoid'))\n",
        "# units(노드, 유닛, 뉴런)의 개수 -> 정답이 없다\n",
        "# 은닉층을 몇 겹으로 할지에도 정답은 없다.\n",
        "# 다만, 일반적인 경험(많은 사람들이 써본 결과)에 따르면 \"항아리 모양\"의 성능이 우수하게 나온다.\n",
        "\n",
        "# 1-4. 출력층 -> 출력의 모양을 결정\n",
        "model.add(Dense(units=1)) # 기본값은 Linear(항등함수)"
      ],
      "metadata": {
        "id": "1Mm4SvM7ud8M"
      },
      "execution_count": null,
      "outputs": []
    },
    {
      "cell_type": "code",
      "source": [
        "# 2. 학습 방법 설정\n",
        "model.compile(\n",
        "    loss = \"mean_squared_error\", # 모델의 오차(잘못된 정도)를 측정하는 손실함수(도구) 설정\n",
        "    optimizer = 'SGD', # 최적화 함수(경사하강법 사용)\n",
        "    metrics = [\"mse\"] # 평가지표\n",
        ")"
      ],
      "metadata": {
        "id": "KyGtlyHvud6D"
      },
      "execution_count": null,
      "outputs": []
    },
    {
      "cell_type": "code",
      "source": [
        "# 3. 학습\n",
        "h = model.fit(X_train, y_train,\n",
        "              validation_split = 0.2, # train set의 20%를 val set으로 지정\n",
        "              epochs = 20 # 전체 훈련 데이터셋을 몇 번 학습 시킬것인지에 대한 횟수\n",
        "              )"
      ],
      "metadata": {
        "colab": {
          "base_uri": "https://localhost:8080/"
        },
        "id": "DgTluMEIud3N",
        "outputId": "87e8e486-6ada-4245-a3c8-f4a7700ae2b1"
      },
      "execution_count": null,
      "outputs": [
        {
          "output_type": "stream",
          "name": "stdout",
          "text": [
            "Epoch 1/20\n",
            "\u001b[1m7/7\u001b[0m \u001b[32m━━━━━━━━━━━━━━━━━━━━\u001b[0m\u001b[37m\u001b[0m \u001b[1m1s\u001b[0m 42ms/step - loss: 80.0552 - mse: 80.0552 - val_loss: 21.6605 - val_mse: 21.6605\n",
            "Epoch 2/20\n",
            "\u001b[1m7/7\u001b[0m \u001b[32m━━━━━━━━━━━━━━━━━━━━\u001b[0m\u001b[37m\u001b[0m \u001b[1m0s\u001b[0m 12ms/step - loss: 18.7639 - mse: 18.7639 - val_loss: 20.5273 - val_mse: 20.5273\n",
            "Epoch 3/20\n",
            "\u001b[1m7/7\u001b[0m \u001b[32m━━━━━━━━━━━━━━━━━━━━\u001b[0m\u001b[37m\u001b[0m \u001b[1m0s\u001b[0m 12ms/step - loss: 21.2820 - mse: 21.2820 - val_loss: 21.1422 - val_mse: 21.1422\n",
            "Epoch 4/20\n",
            "\u001b[1m7/7\u001b[0m \u001b[32m━━━━━━━━━━━━━━━━━━━━\u001b[0m\u001b[37m\u001b[0m \u001b[1m0s\u001b[0m 12ms/step - loss: 19.5356 - mse: 19.5356 - val_loss: 20.4715 - val_mse: 20.4715\n",
            "Epoch 5/20\n",
            "\u001b[1m7/7\u001b[0m \u001b[32m━━━━━━━━━━━━━━━━━━━━\u001b[0m\u001b[37m\u001b[0m \u001b[1m0s\u001b[0m 12ms/step - loss: 19.8758 - mse: 19.8758 - val_loss: 20.4989 - val_mse: 20.4989\n",
            "Epoch 6/20\n",
            "\u001b[1m7/7\u001b[0m \u001b[32m━━━━━━━━━━━━━━━━━━━━\u001b[0m\u001b[37m\u001b[0m \u001b[1m0s\u001b[0m 13ms/step - loss: 19.1624 - mse: 19.1624 - val_loss: 21.5335 - val_mse: 21.5335\n",
            "Epoch 7/20\n",
            "\u001b[1m7/7\u001b[0m \u001b[32m━━━━━━━━━━━━━━━━━━━━\u001b[0m\u001b[37m\u001b[0m \u001b[1m0s\u001b[0m 13ms/step - loss: 20.4964 - mse: 20.4964 - val_loss: 20.7937 - val_mse: 20.7937\n",
            "Epoch 8/20\n",
            "\u001b[1m7/7\u001b[0m \u001b[32m━━━━━━━━━━━━━━━━━━━━\u001b[0m\u001b[37m\u001b[0m \u001b[1m0s\u001b[0m 13ms/step - loss: 22.2010 - mse: 22.2010 - val_loss: 20.3951 - val_mse: 20.3951\n",
            "Epoch 9/20\n",
            "\u001b[1m7/7\u001b[0m \u001b[32m━━━━━━━━━━━━━━━━━━━━\u001b[0m\u001b[37m\u001b[0m \u001b[1m0s\u001b[0m 13ms/step - loss: 21.5156 - mse: 21.5156 - val_loss: 20.4149 - val_mse: 20.4149\n",
            "Epoch 10/20\n",
            "\u001b[1m7/7\u001b[0m \u001b[32m━━━━━━━━━━━━━━━━━━━━\u001b[0m\u001b[37m\u001b[0m \u001b[1m0s\u001b[0m 19ms/step - loss: 19.7399 - mse: 19.7399 - val_loss: 20.6103 - val_mse: 20.6103\n",
            "Epoch 11/20\n",
            "\u001b[1m7/7\u001b[0m \u001b[32m━━━━━━━━━━━━━━━━━━━━\u001b[0m\u001b[37m\u001b[0m \u001b[1m0s\u001b[0m 12ms/step - loss: 19.3393 - mse: 19.3393 - val_loss: 20.7662 - val_mse: 20.7662\n",
            "Epoch 12/20\n",
            "\u001b[1m7/7\u001b[0m \u001b[32m━━━━━━━━━━━━━━━━━━━━\u001b[0m\u001b[37m\u001b[0m \u001b[1m0s\u001b[0m 12ms/step - loss: 19.5068 - mse: 19.5068 - val_loss: 21.4514 - val_mse: 21.4514\n",
            "Epoch 13/20\n",
            "\u001b[1m7/7\u001b[0m \u001b[32m━━━━━━━━━━━━━━━━━━━━\u001b[0m\u001b[37m\u001b[0m \u001b[1m0s\u001b[0m 13ms/step - loss: 21.8389 - mse: 21.8389 - val_loss: 20.8677 - val_mse: 20.8677\n",
            "Epoch 14/20\n",
            "\u001b[1m7/7\u001b[0m \u001b[32m━━━━━━━━━━━━━━━━━━━━\u001b[0m\u001b[37m\u001b[0m \u001b[1m0s\u001b[0m 12ms/step - loss: 20.2809 - mse: 20.2809 - val_loss: 21.0857 - val_mse: 21.0857\n",
            "Epoch 15/20\n",
            "\u001b[1m7/7\u001b[0m \u001b[32m━━━━━━━━━━━━━━━━━━━━\u001b[0m\u001b[37m\u001b[0m \u001b[1m0s\u001b[0m 12ms/step - loss: 19.4605 - mse: 19.4605 - val_loss: 20.7196 - val_mse: 20.7196\n",
            "Epoch 16/20\n",
            "\u001b[1m7/7\u001b[0m \u001b[32m━━━━━━━━━━━━━━━━━━━━\u001b[0m\u001b[37m\u001b[0m \u001b[1m0s\u001b[0m 12ms/step - loss: 19.6230 - mse: 19.6230 - val_loss: 21.1348 - val_mse: 21.1348\n",
            "Epoch 17/20\n",
            "\u001b[1m7/7\u001b[0m \u001b[32m━━━━━━━━━━━━━━━━━━━━\u001b[0m\u001b[37m\u001b[0m \u001b[1m0s\u001b[0m 12ms/step - loss: 20.4242 - mse: 20.4242 - val_loss: 21.0778 - val_mse: 21.0778\n",
            "Epoch 18/20\n",
            "\u001b[1m7/7\u001b[0m \u001b[32m━━━━━━━━━━━━━━━━━━━━\u001b[0m\u001b[37m\u001b[0m \u001b[1m0s\u001b[0m 20ms/step - loss: 21.4861 - mse: 21.4861 - val_loss: 20.4109 - val_mse: 20.4109\n",
            "Epoch 19/20\n",
            "\u001b[1m7/7\u001b[0m \u001b[32m━━━━━━━━━━━━━━━━━━━━\u001b[0m\u001b[37m\u001b[0m \u001b[1m0s\u001b[0m 12ms/step - loss: 20.9796 - mse: 20.9796 - val_loss: 20.5059 - val_mse: 20.5059\n",
            "Epoch 20/20\n",
            "\u001b[1m7/7\u001b[0m \u001b[32m━━━━━━━━━━━━━━━━━━━━\u001b[0m\u001b[37m\u001b[0m \u001b[1m0s\u001b[0m 13ms/step - loss: 19.9961 - mse: 19.9961 - val_loss: 21.5425 - val_mse: 21.5425\n"
          ]
        }
      ]
    },
    {
      "cell_type": "code",
      "source": [
        "# 4. 예측\n",
        "model.predict(X_test)"
      ],
      "metadata": {
        "colab": {
          "base_uri": "https://localhost:8080/"
        },
        "id": "cdqJNhpPud0k",
        "outputId": "70ccb6fa-bd32-4e0f-f2dc-3f1fe54be0c3"
      },
      "execution_count": null,
      "outputs": [
        {
          "output_type": "stream",
          "name": "stdout",
          "text": [
            "\u001b[1m4/4\u001b[0m \u001b[32m━━━━━━━━━━━━━━━━━━━━\u001b[0m\u001b[37m\u001b[0m \u001b[1m0s\u001b[0m 22ms/step\n"
          ]
        },
        {
          "output_type": "execute_result",
          "data": {
            "text/plain": [
              "array([[9.889488],\n",
              "       [9.892107],\n",
              "       [9.889488],\n",
              "       [9.892107],\n",
              "       [9.892107],\n",
              "       [9.889488],\n",
              "       [9.889488],\n",
              "       [9.892107],\n",
              "       [9.889488],\n",
              "       [9.892107],\n",
              "       [9.892107],\n",
              "       [9.892107],\n",
              "       [9.889488],\n",
              "       [9.892107],\n",
              "       [9.894518],\n",
              "       [9.889488],\n",
              "       [9.894518],\n",
              "       [9.896673],\n",
              "       [9.892107],\n",
              "       [9.894518],\n",
              "       [9.889488],\n",
              "       [9.889488],\n",
              "       [9.892107],\n",
              "       [9.892107],\n",
              "       [9.894518],\n",
              "       [9.889488],\n",
              "       [9.892107],\n",
              "       [9.892107],\n",
              "       [9.892107],\n",
              "       [9.896673],\n",
              "       [9.889488],\n",
              "       [9.889488],\n",
              "       [9.892107],\n",
              "       [9.892107],\n",
              "       [9.889488],\n",
              "       [9.892107],\n",
              "       [9.894518],\n",
              "       [9.894518],\n",
              "       [9.894518],\n",
              "       [9.892107],\n",
              "       [9.889488],\n",
              "       [9.896673],\n",
              "       [9.892107],\n",
              "       [9.892107],\n",
              "       [9.894518],\n",
              "       [9.892107],\n",
              "       [9.896673],\n",
              "       [9.889488],\n",
              "       [9.892107],\n",
              "       [9.892107],\n",
              "       [9.889488],\n",
              "       [9.889488],\n",
              "       [9.892107],\n",
              "       [9.894518],\n",
              "       [9.892107],\n",
              "       [9.894518],\n",
              "       [9.889488],\n",
              "       [9.892107],\n",
              "       [9.889488],\n",
              "       [9.892107],\n",
              "       [9.889488],\n",
              "       [9.892107],\n",
              "       [9.892107],\n",
              "       [9.892107],\n",
              "       [9.892107],\n",
              "       [9.892107],\n",
              "       [9.894518],\n",
              "       [9.889488],\n",
              "       [9.892107],\n",
              "       [9.892107],\n",
              "       [9.889488],\n",
              "       [9.892107],\n",
              "       [9.892107],\n",
              "       [9.892107],\n",
              "       [9.894518],\n",
              "       [9.892107],\n",
              "       [9.896673],\n",
              "       [9.894518],\n",
              "       [9.889488],\n",
              "       [9.892107],\n",
              "       [9.889488],\n",
              "       [9.892107],\n",
              "       [9.889488],\n",
              "       [9.892107],\n",
              "       [9.892107],\n",
              "       [9.892107],\n",
              "       [9.889488],\n",
              "       [9.889488],\n",
              "       [9.889488],\n",
              "       [9.889488],\n",
              "       [9.892107],\n",
              "       [9.896673],\n",
              "       [9.894518],\n",
              "       [9.892107],\n",
              "       [9.896673],\n",
              "       [9.892107],\n",
              "       [9.892107],\n",
              "       [9.892107],\n",
              "       [9.896673],\n",
              "       [9.889488],\n",
              "       [9.894518],\n",
              "       [9.892107],\n",
              "       [9.889488],\n",
              "       [9.892107],\n",
              "       [9.894518],\n",
              "       [9.896673],\n",
              "       [9.892107],\n",
              "       [9.892107],\n",
              "       [9.892107],\n",
              "       [9.892107],\n",
              "       [9.892107],\n",
              "       [9.894518],\n",
              "       [9.892107],\n",
              "       [9.892107],\n",
              "       [9.889488],\n",
              "       [9.889488],\n",
              "       [9.892107],\n",
              "       [9.892107],\n",
              "       [9.892107]], dtype=float32)"
            ]
          },
          "metadata": {},
          "execution_count": 15
        }
      ]
    },
    {
      "cell_type": "code",
      "source": [
        "# 5. 평가 -> sklearn에서는 score()\n",
        "model.evaluate(X_test, y_test)"
      ],
      "metadata": {
        "colab": {
          "base_uri": "https://localhost:8080/"
        },
        "id": "Fti98eyB6QB2",
        "outputId": "963da3d1-0ab0-401f-ea81-73235be4357a"
      },
      "execution_count": null,
      "outputs": [
        {
          "output_type": "stream",
          "name": "stdout",
          "text": [
            "\u001b[1m4/4\u001b[0m \u001b[32m━━━━━━━━━━━━━━━━━━━━\u001b[0m\u001b[37m\u001b[0m \u001b[1m0s\u001b[0m 9ms/step - loss: 22.5031 - mse: 22.5031 \n"
          ]
        },
        {
          "output_type": "execute_result",
          "data": {
            "text/plain": [
              "[21.691057205200195, 21.691057205200195]"
            ]
          },
          "metadata": {},
          "execution_count": 16
        }
      ]
    },
    {
      "cell_type": "code",
      "source": [
        "# 7/2 시작\n",
        "# 모델의 복잡도 곡선 시각화\n",
        "# 히스토리 객체\n",
        "h.history.keys() # 모델의 학습 결과 정보를 담아놓는 객체"
      ],
      "metadata": {
        "id": "UCOGPVBZ6o_8",
        "colab": {
          "base_uri": "https://localhost:8080/"
        },
        "outputId": "6983e8cb-2187-495d-a1ec-f6f52332a891"
      },
      "execution_count": null,
      "outputs": [
        {
          "output_type": "execute_result",
          "data": {
            "text/plain": [
              "dict_keys(['loss', 'mse', 'val_loss', 'val_mse'])"
            ]
          },
          "metadata": {},
          "execution_count": 20
        }
      ]
    },
    {
      "cell_type": "code",
      "source": [
        "plt.figure(figsize = (10,3))\n",
        "plt.plot(h.history['loss'], label = 'train_loss')\n",
        "plt.plot(h.history['val_loss'], label = 'test_loss')\n",
        "plt.legend()\n",
        "plt.show()\n",
        "\n",
        "# 모델의 복잡도 곡선을 살펴보는 이유 : 모델의 과대/과소 적합을 확인하기 위함\n",
        "# 1번째 epoch가 오차값이 가장 높고, epoch 2번부터는 큰 차이가 없이 오차값이 20정도로 유지된다.\n",
        "# 랜덤한 w와 b값이 주어진 첫 번째 epoch에서만 오차가 높고 그 이후로는 완화된 모습이 관찰됨\n",
        "# loss값이 20정도로 계속 유지되는 이유(더 이상 완화되지 않는 이유)는 특성이 한개라서가 아닐까..\n",
        "# 라고 예측해볼 수 있겠다."
      ],
      "metadata": {
        "colab": {
          "base_uri": "https://localhost:8080/",
          "height": 291
        },
        "id": "N6BcMTGTgDxk",
        "outputId": "519a133b-d99a-443f-b465-be5dad577c2c"
      },
      "execution_count": null,
      "outputs": [
        {
          "output_type": "display_data",
          "data": {
            "text/plain": [
              "<Figure size 1000x300 with 1 Axes>"
            ],
            "image/png": "[encoded data removed]"
          },
          "metadata": {}
        }
      ]
    },
    {
      "cell_type": "markdown",
      "source": [
        "### 문제데이터의 개수를 최대 6개까지 설정하여 학습 (실습)\n",
        "- 수치형으로 되어있는 컬럼만 가져다 사용\n",
        ", 문자형 데이터 수치로 바꿔서 사용해도됨\n",
        "- 은닉층과 노드의 수는 그대로 -> 입력층에 변화"
      ],
      "metadata": {
        "id": "z7vXVP1jkCUN"
      }
    },
    {
      "cell_type": "code",
      "source": [
        "# 모델의 복잡도 곡선까지 그려서 팀별로 카톡방에 올리기"
      ],
      "metadata": {
        "id": "Q17f1bRO6psd"
      },
      "execution_count": null,
      "outputs": []
    },
    {
      "cell_type": "code",
      "source": [
        "# 숫자로 된 컬럼만 골라오기\n",
        "numeric_data = data.select_dtypes(include='number')\n",
        "\n",
        "# G3는 정답이니까 빼고, 입력으로 쓸 6개 선택\n",
        "X = numeric_data[['studytime', 'failures', 'absences', 'G1', 'G2', 'goout']]\n",
        "y = numeric_data['G3']  # 정답은 그대로"
      ],
      "metadata": {
        "id": "5TFz4m3l6pqV"
      },
      "execution_count": null,
      "outputs": []
    },
    {
      "cell_type": "code",
      "source": [
        "from sklearn.model_selection import train_test_split\n",
        "\n",
        "X_train, X_test, y_train, y_test = train_test_split(\n",
        "    X, y, test_size=0.3, random_state=5\n",
        ")"
      ],
      "metadata": {
        "id": "z3W9xXhn6poV"
      },
      "execution_count": null,
      "outputs": []
    },
    {
      "cell_type": "code",
      "source": [
        "from tensorflow.keras.models import Sequential\n",
        "from tensorflow.keras.layers import Dense, InputLayer\n",
        "\n",
        "model = Sequential()\n",
        "model.add(InputLayer(shape=(X_train.shape[1],)))  # ← 6개의 입력\n",
        "model.add(Dense(64, activation='sigmoid'))\n",
        "model.add(Dense(128, activation='sigmoid'))\n",
        "model.add(Dense(64, activation='sigmoid'))\n",
        "model.add(Dense(32, activation='sigmoid'))\n",
        "model.add(Dense(1))  # 출력층\n",
        "\n",
        "# 학습 설정\n",
        "model.compile(loss='mean_squared_error', optimizer='SGD', metrics=['mse'])\n",
        "\n",
        "# 학습하기\n",
        "h = model.fit(X_train, y_train, validation_split=0.2, epochs=20)\n",
        "\n",
        "# 평가\n",
        "model.evaluate(X_test, y_test)"
      ],
      "metadata": {
        "id": "zi1pygkJ6pl9",
        "colab": {
          "base_uri": "https://localhost:8080/"
        },
        "outputId": "ad9795a4-91a4-447b-c5ba-6f318cd94110"
      },
      "execution_count": null,
      "outputs": [
        {
          "output_type": "stream",
          "name": "stdout",
          "text": [
            "Epoch 1/20\n",
            "\u001b[1m7/7\u001b[0m \u001b[32m━━━━━━━━━━━━━━━━━━━━\u001b[0m\u001b[37m\u001b[0m \u001b[1m2s\u001b[0m 80ms/step - loss: 80.4239 - mse: 80.4239 - val_loss: 22.1292 - val_mse: 22.1292\n",
            "Epoch 2/20\n",
            "\u001b[1m7/7\u001b[0m \u001b[32m━━━━━━━━━━━━━━━━━━━━\u001b[0m\u001b[37m\u001b[0m \u001b[1m0s\u001b[0m 13ms/step - loss: 21.2547 - mse: 21.2547 - val_loss: 21.5851 - val_mse: 21.5851\n",
            "Epoch 3/20\n",
            "\u001b[1m7/7\u001b[0m \u001b[32m━━━━━━━━━━━━━━━━━━━━\u001b[0m\u001b[37m\u001b[0m \u001b[1m0s\u001b[0m 13ms/step - loss: 17.5613 - mse: 17.5613 - val_loss: 21.1582 - val_mse: 21.1582\n",
            "Epoch 4/20\n",
            "\u001b[1m7/7\u001b[0m \u001b[32m━━━━━━━━━━━━━━━━━━━━\u001b[0m\u001b[37m\u001b[0m \u001b[1m0s\u001b[0m 19ms/step - loss: 19.1634 - mse: 19.1634 - val_loss: 20.6884 - val_mse: 20.6884\n",
            "Epoch 5/20\n",
            "\u001b[1m7/7\u001b[0m \u001b[32m━━━━━━━━━━━━━━━━━━━━\u001b[0m\u001b[37m\u001b[0m \u001b[1m0s\u001b[0m 13ms/step - loss: 22.2516 - mse: 22.2516 - val_loss: 20.8945 - val_mse: 20.8945\n",
            "Epoch 6/20\n",
            "\u001b[1m7/7\u001b[0m \u001b[32m━━━━━━━━━━━━━━━━━━━━\u001b[0m\u001b[37m\u001b[0m \u001b[1m0s\u001b[0m 12ms/step - loss: 20.7969 - mse: 20.7969 - val_loss: 20.7078 - val_mse: 20.7078\n",
            "Epoch 7/20\n",
            "\u001b[1m7/7\u001b[0m \u001b[32m━━━━━━━━━━━━━━━━━━━━\u001b[0m\u001b[37m\u001b[0m \u001b[1m0s\u001b[0m 13ms/step - loss: 23.3895 - mse: 23.3895 - val_loss: 20.3831 - val_mse: 20.3831\n",
            "Epoch 8/20\n",
            "\u001b[1m7/7\u001b[0m \u001b[32m━━━━━━━━━━━━━━━━━━━━\u001b[0m\u001b[37m\u001b[0m \u001b[1m0s\u001b[0m 12ms/step - loss: 21.4419 - mse: 21.4419 - val_loss: 20.4189 - val_mse: 20.4189\n",
            "Epoch 9/20\n",
            "\u001b[1m7/7\u001b[0m \u001b[32m━━━━━━━━━━━━━━━━━━━━\u001b[0m\u001b[37m\u001b[0m \u001b[1m0s\u001b[0m 15ms/step - loss: 17.1834 - mse: 17.1834 - val_loss: 20.8835 - val_mse: 20.8835\n",
            "Epoch 10/20\n",
            "\u001b[1m7/7\u001b[0m \u001b[32m━━━━━━━━━━━━━━━━━━━━\u001b[0m\u001b[37m\u001b[0m \u001b[1m0s\u001b[0m 12ms/step - loss: 18.6212 - mse: 18.6212 - val_loss: 21.0351 - val_mse: 21.0351\n",
            "Epoch 11/20\n",
            "\u001b[1m7/7\u001b[0m \u001b[32m━━━━━━━━━━━━━━━━━━━━\u001b[0m\u001b[37m\u001b[0m \u001b[1m0s\u001b[0m 12ms/step - loss: 19.1379 - mse: 19.1379 - val_loss: 21.3317 - val_mse: 21.3317\n",
            "Epoch 12/20\n",
            "\u001b[1m7/7\u001b[0m \u001b[32m━━━━━━━━━━━━━━━━━━━━\u001b[0m\u001b[37m\u001b[0m \u001b[1m0s\u001b[0m 13ms/step - loss: 19.4808 - mse: 19.4808 - val_loss: 21.0967 - val_mse: 21.0967\n",
            "Epoch 13/20\n",
            "\u001b[1m7/7\u001b[0m \u001b[32m━━━━━━━━━━━━━━━━━━━━\u001b[0m\u001b[37m\u001b[0m \u001b[1m0s\u001b[0m 12ms/step - loss: 21.0450 - mse: 21.0450 - val_loss: 20.9336 - val_mse: 20.9336\n",
            "Epoch 14/20\n",
            "\u001b[1m7/7\u001b[0m \u001b[32m━━━━━━━━━━━━━━━━━━━━\u001b[0m\u001b[37m\u001b[0m \u001b[1m0s\u001b[0m 13ms/step - loss: 19.1528 - mse: 19.1528 - val_loss: 20.6726 - val_mse: 20.6726\n",
            "Epoch 15/20\n",
            "\u001b[1m7/7\u001b[0m \u001b[32m━━━━━━━━━━━━━━━━━━━━\u001b[0m\u001b[37m\u001b[0m \u001b[1m0s\u001b[0m 12ms/step - loss: 18.7846 - mse: 18.7846 - val_loss: 20.9198 - val_mse: 20.9198\n",
            "Epoch 16/20\n",
            "\u001b[1m7/7\u001b[0m \u001b[32m━━━━━━━━━━━━━━━━━━━━\u001b[0m\u001b[37m\u001b[0m \u001b[1m0s\u001b[0m 13ms/step - loss: 22.5857 - mse: 22.5857 - val_loss: 20.4832 - val_mse: 20.4832\n",
            "Epoch 17/20\n",
            "\u001b[1m7/7\u001b[0m \u001b[32m━━━━━━━━━━━━━━━━━━━━\u001b[0m\u001b[37m\u001b[0m \u001b[1m0s\u001b[0m 13ms/step - loss: 20.7973 - mse: 20.7973 - val_loss: 20.6974 - val_mse: 20.6974\n",
            "Epoch 18/20\n",
            "\u001b[1m7/7\u001b[0m \u001b[32m━━━━━━━━━━━━━━━━━━━━\u001b[0m\u001b[37m\u001b[0m \u001b[1m0s\u001b[0m 20ms/step - loss: 18.9837 - mse: 18.9837 - val_loss: 20.3203 - val_mse: 20.3203\n",
            "Epoch 19/20\n",
            "\u001b[1m7/7\u001b[0m \u001b[32m━━━━━━━━━━━━━━━━━━━━\u001b[0m\u001b[37m\u001b[0m \u001b[1m0s\u001b[0m 12ms/step - loss: 18.5022 - mse: 18.5022 - val_loss: 21.1081 - val_mse: 21.1081\n",
            "Epoch 20/20\n",
            "\u001b[1m7/7\u001b[0m \u001b[32m━━━━━━━━━━━━━━━━━━━━\u001b[0m\u001b[37m\u001b[0m \u001b[1m0s\u001b[0m 12ms/step - loss: 20.5556 - mse: 20.5556 - val_loss: 20.9586 - val_mse: 20.9586\n",
            "\u001b[1m4/4\u001b[0m \u001b[32m━━━━━━━━━━━━━━━━━━━━\u001b[0m\u001b[37m\u001b[0m \u001b[1m0s\u001b[0m 9ms/step - loss: 22.2837 - mse: 22.2837 \n"
          ]
        },
        {
          "output_type": "execute_result",
          "data": {
            "text/plain": [
              "[21.454374313354492, 21.454374313354492]"
            ]
          },
          "metadata": {},
          "execution_count": 27
        }
      ]
    },
    {
      "cell_type": "code",
      "source": [
        "# 학습 그래프 그리기\n",
        "import matplotlib.pyplot as plt\n",
        "plt.figure(figsize=(10,3))\n",
        "plt.plot(h.history['loss'], label='train_loss')\n",
        "plt.plot(h.history['val_loss'], label='val_loss')\n",
        "plt.legend()\n",
        "plt.show()"
      ],
      "metadata": {
        "colab": {
          "base_uri": "https://localhost:8080/",
          "height": 295
        },
        "id": "mHrxzsLPfwC3",
        "outputId": "331d9e27-84cb-49c2-8810-4cc3a0a240ab"
      },
      "execution_count": null,
      "outputs": [
        {
          "output_type": "display_data",
          "data": {
            "text/plain": [
              "<Figure size 1000x300 with 1 Axes>"
            ],
            "image/png": "[encoded data removed]"
          },
          "metadata": {}
        }
      ]
    },
    {
      "cell_type": "code",
      "source": [
        "# 인사이트\n",
        "# 학생들의 수학성적을 예측하는 실습을 했는데, 특성 수에 변화를 주어도 그래프에서 큰 변화가 일어나진 않았다.\n",
        "# 학생들의 수학성적이 공부시간, 통학시간, 주간음주량, 건강 등등의 영향을 받는다기보다는 학생 개개인의 노력이\n",
        "# 성적을 만들어내는 것은 아닐까.. 라고 추측해볼 수 있다."
      ],
      "metadata": {
        "id": "ukUXtjXGfwBT"
      },
      "execution_count": null,
      "outputs": []
    }
  ]
}